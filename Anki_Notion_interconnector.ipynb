{
  "nbformat": 4,
  "nbformat_minor": 0,
  "metadata": {
    "colab": {
      "provenance": []
    },
    "kernelspec": {
      "name": "python3",
      "display_name": "Python 3"
    },
    "language_info": {
      "name": "python"
    }
  },
  "cells": [
    {
      "cell_type": "code",
      "source": [
        "from bs4 import BeautifulSoup\n",
        "\n",
        "html_file = input('Enter the name of the HTML file: ') + \".html\"\n",
        "product_name = input('Enter the name of the product: ')\n",
        "output_file = f'{product_name}_anki_importer.txt'\n",
        "\n",
        "with open(html_file, 'r') as file:\n",
        "    html = file.read()\n",
        "\n",
        "soup = BeautifulSoup(html, 'html.parser')\n",
        "\n",
        "anki_found = False\n",
        "tags = input(f'Tags for this deck: ')\n",
        "with open(output_file, 'w') as file:\n",
        "    summary = ''\n",
        "    paragraph = ''\n",
        "    for tag in soup.find_all(['h1', 'summary', 'p', 'img']):\n",
        "        if tag.name == 'h1' and tag.text.strip() == 'Anki':\n",
        "            anki_found = True\n",
        "        elif anki_found:\n",
        "            if tag.name == 'summary':\n",
        "                if summary:\n",
        "                    file.write(f'{summary};{paragraph};{tags}\\n')\n",
        "                    summary = ''\n",
        "                    paragraph = ''\n",
        "                summary = tag.text.strip()\n",
        "            elif tag.name == 'p':\n",
        "                if paragraph:\n",
        "                    paragraph += '<br>'\n",
        "                paragraph += tag.text.strip()\n",
        "            elif tag.name == 'img':\n",
        "                if paragraph:\n",
        "                    paragraph += '<br>'\n",
        "                src = tag.get('src')\n",
        "                src = src[src.index('/')+1:]\n",
        "                paragraph += f'<img src=\"{src}\">'\n",
        "        else:\n",
        "            continue\n",
        "\n",
        "    if summary:\n",
        "        file.write(f'{summary};{paragraph};{tags}\\n')\n",
        "\n",
        "print(f'Output file \"{output_file}\" is ready to be imported into Anki.')"
      ],
      "metadata": {
        "colab": {
          "base_uri": "https://localhost:8080/"
        },
        "id": "UOXw-KtHmvBR",
        "outputId": "7b4e09bf-c2c8-4112-f5a1-7ddd79d8d6c6"
      },
      "execution_count": null,
      "outputs": [
        {
          "name": "stdout",
          "output_type": "stream",
          "text": [
            "Enter the name of the HTML file: Therapeutic uses of hormones e3bff490f7164970a17a1da7460161e1\n",
            "Enter the name of the product: Endrocrine::Therapeutic\n"
          ]
        }
      ]
    }
  ]
}